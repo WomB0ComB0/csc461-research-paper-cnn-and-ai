{
 "cells": [
  {
   "cell_type": "code",
   "execution_count": 1,
   "metadata": {
    "execution": {
     "iopub.execute_input": "2024-04-29T23:58:17.731184Z",
     "iopub.status.busy": "2024-04-29T23:58:17.731025Z",
     "iopub.status.idle": "2024-04-29T23:58:17.735663Z",
     "shell.execute_reply": "2024-04-29T23:58:17.735244Z"
    }
   },
   "outputs": [
    {
     "name": "stdout",
     "output_type": "stream",
     "text": [
      "This is a test\n"
     ]
    }
   ],
   "source": [
    "print(\"This is a test\")"
   ]
  },
  {
   "cell_type": "code",
   "execution_count": 2,
   "metadata": {
    "execution": {
     "iopub.execute_input": "2024-04-29T23:58:17.755978Z",
     "iopub.status.busy": "2024-04-29T23:58:17.755615Z",
     "iopub.status.idle": "2024-04-29T23:58:17.758164Z",
     "shell.execute_reply": "2024-04-29T23:58:17.757665Z"
    }
   },
   "outputs": [
    {
     "name": "stdout",
     "output_type": "stream",
     "text": [
      "This is a test 2\n"
     ]
    }
   ],
   "source": [
    "print(\"This is a test 2\")"
   ]
  }
 ],
 "metadata": {
  "kernelspec": {
   "display_name": "Python 3 (ipykernel)",
   "language": "python",
   "name": "python3"
  },
  "language_info": {
   "codemirror_mode": {
    "name": "ipython",
    "version": 3
   },
   "file_extension": ".py",
   "mimetype": "text/x-python",
   "name": "python",
   "nbconvert_exporter": "python",
   "pygments_lexer": "ipython3",
   "version": "3.10.12"
  }
 },
 "nbformat": 4,
 "nbformat_minor": 2
}
